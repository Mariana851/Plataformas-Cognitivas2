{
  "nbformat": 4,
  "nbformat_minor": 0,
  "metadata": {
    "colab": {
      "provenance": []
    },
    "kernelspec": {
      "name": "python3",
      "display_name": "Python 3"
    },
    "language_info": {
      "name": "python"
    }
  },
  "cells": [
    {
      "cell_type": "code",
      "execution_count": 39,
      "metadata": {
        "colab": {
          "base_uri": "https://localhost:8080/"
        },
        "id": "inEOrMps4htP",
        "outputId": "007467c5-8be3-4b32-f302-913ee1edbfb0"
      },
      "outputs": [
        {
          "output_type": "stream",
          "name": "stdout",
          "text": [
            "Descrição: nuvens dispersas\n",
            "Temperatura: 297.14\n"
          ]
        }
      ],
      "source": [
        "import requests\n",
        "k=requests.get(\"https://api.openweathermap.org/data/2.5/weather?lat=-23.3186&lon=-46.5867&appid=d5a44eb68eb98e21172e9224c4740643&lang=pt&=metric\")\n",
        "m=k.json()\n",
        "m\n",
        "print(\"Descrição:\",m['weather'][0]['description'])\n",
        "print(\"Temperatura:\",m['main']['temp'])"
      ]
    }
  ]
}